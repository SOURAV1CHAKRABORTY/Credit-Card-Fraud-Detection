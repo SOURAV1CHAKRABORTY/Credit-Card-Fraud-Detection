{
 "cells": [
  {
   "cell_type": "code",
   "execution_count": 1,
   "id": "61793135",
   "metadata": {},
   "outputs": [],
   "source": [
    "# Import dependencies\n",
    "import pandas as pd\n",
    "import numpy as np\n",
    "import pickle\n",
    "import matplotlib.pyplot as plt\n",
    "import matplotlib.mlab as mlab\n",
    "import seaborn\n",
    "%matplotlib inline\n",
    "from sklearn.model_selection import train_test_split     \n",
    "from sklearn.linear_model import LogisticRegression\n",
    "from sklearn.metrics import accuracy_score\n",
    "from sklearn.metrics import classification_report\n",
    "from sklearn.linear_model import LogisticRegression\n",
    "import xgboost as xgb\n",
    "from xgboost import XGBClassifier\n",
    "from sklearn import svm\n",
    "from sklearn.preprocessing import StandardScaler\n",
    "import warnings\n",
    "warnings.filterwarnings(\"ignore\")"
   ]
  },
  {
   "cell_type": "code",
   "execution_count": 6,
   "id": "e278e8db",
   "metadata": {},
   "outputs": [
    {
     "data": {
      "text/html": [
       "<div>\n",
       "<style scoped>\n",
       "    .dataframe tbody tr th:only-of-type {\n",
       "        vertical-align: middle;\n",
       "    }\n",
       "\n",
       "    .dataframe tbody tr th {\n",
       "        vertical-align: top;\n",
       "    }\n",
       "\n",
       "    .dataframe thead th {\n",
       "        text-align: right;\n",
       "    }\n",
       "</style>\n",
       "<table border=\"1\" class=\"dataframe\">\n",
       "  <thead>\n",
       "    <tr style=\"text-align: right;\">\n",
       "      <th></th>\n",
       "      <th>Time</th>\n",
       "      <th>V1</th>\n",
       "      <th>V2</th>\n",
       "      <th>V3</th>\n",
       "      <th>V4</th>\n",
       "      <th>V5</th>\n",
       "      <th>V6</th>\n",
       "      <th>V7</th>\n",
       "      <th>V8</th>\n",
       "      <th>V9</th>\n",
       "      <th>...</th>\n",
       "      <th>V21</th>\n",
       "      <th>V22</th>\n",
       "      <th>V23</th>\n",
       "      <th>V24</th>\n",
       "      <th>V25</th>\n",
       "      <th>V26</th>\n",
       "      <th>V27</th>\n",
       "      <th>V28</th>\n",
       "      <th>Amount</th>\n",
       "      <th>Class</th>\n",
       "    </tr>\n",
       "  </thead>\n",
       "  <tbody>\n",
       "    <tr>\n",
       "      <th>284802</th>\n",
       "      <td>172786.0</td>\n",
       "      <td>-11.881118</td>\n",
       "      <td>10.071785</td>\n",
       "      <td>-9.834783</td>\n",
       "      <td>-2.066656</td>\n",
       "      <td>-5.364473</td>\n",
       "      <td>-2.606837</td>\n",
       "      <td>-4.918215</td>\n",
       "      <td>7.305334</td>\n",
       "      <td>1.914428</td>\n",
       "      <td>...</td>\n",
       "      <td>0.213454</td>\n",
       "      <td>0.111864</td>\n",
       "      <td>1.014480</td>\n",
       "      <td>-0.509348</td>\n",
       "      <td>1.436807</td>\n",
       "      <td>0.250034</td>\n",
       "      <td>0.943651</td>\n",
       "      <td>0.823731</td>\n",
       "      <td>0.77</td>\n",
       "      <td>0</td>\n",
       "    </tr>\n",
       "    <tr>\n",
       "      <th>284803</th>\n",
       "      <td>172787.0</td>\n",
       "      <td>-0.732789</td>\n",
       "      <td>-0.055080</td>\n",
       "      <td>2.035030</td>\n",
       "      <td>-0.738589</td>\n",
       "      <td>0.868229</td>\n",
       "      <td>1.058415</td>\n",
       "      <td>0.024330</td>\n",
       "      <td>0.294869</td>\n",
       "      <td>0.584800</td>\n",
       "      <td>...</td>\n",
       "      <td>0.214205</td>\n",
       "      <td>0.924384</td>\n",
       "      <td>0.012463</td>\n",
       "      <td>-1.016226</td>\n",
       "      <td>-0.606624</td>\n",
       "      <td>-0.395255</td>\n",
       "      <td>0.068472</td>\n",
       "      <td>-0.053527</td>\n",
       "      <td>24.79</td>\n",
       "      <td>0</td>\n",
       "    </tr>\n",
       "    <tr>\n",
       "      <th>284804</th>\n",
       "      <td>172788.0</td>\n",
       "      <td>1.919565</td>\n",
       "      <td>-0.301254</td>\n",
       "      <td>-3.249640</td>\n",
       "      <td>-0.557828</td>\n",
       "      <td>2.630515</td>\n",
       "      <td>3.031260</td>\n",
       "      <td>-0.296827</td>\n",
       "      <td>0.708417</td>\n",
       "      <td>0.432454</td>\n",
       "      <td>...</td>\n",
       "      <td>0.232045</td>\n",
       "      <td>0.578229</td>\n",
       "      <td>-0.037501</td>\n",
       "      <td>0.640134</td>\n",
       "      <td>0.265745</td>\n",
       "      <td>-0.087371</td>\n",
       "      <td>0.004455</td>\n",
       "      <td>-0.026561</td>\n",
       "      <td>67.88</td>\n",
       "      <td>0</td>\n",
       "    </tr>\n",
       "    <tr>\n",
       "      <th>284805</th>\n",
       "      <td>172788.0</td>\n",
       "      <td>-0.240440</td>\n",
       "      <td>0.530483</td>\n",
       "      <td>0.702510</td>\n",
       "      <td>0.689799</td>\n",
       "      <td>-0.377961</td>\n",
       "      <td>0.623708</td>\n",
       "      <td>-0.686180</td>\n",
       "      <td>0.679145</td>\n",
       "      <td>0.392087</td>\n",
       "      <td>...</td>\n",
       "      <td>0.265245</td>\n",
       "      <td>0.800049</td>\n",
       "      <td>-0.163298</td>\n",
       "      <td>0.123205</td>\n",
       "      <td>-0.569159</td>\n",
       "      <td>0.546668</td>\n",
       "      <td>0.108821</td>\n",
       "      <td>0.104533</td>\n",
       "      <td>10.00</td>\n",
       "      <td>0</td>\n",
       "    </tr>\n",
       "    <tr>\n",
       "      <th>284806</th>\n",
       "      <td>172792.0</td>\n",
       "      <td>-0.533413</td>\n",
       "      <td>-0.189733</td>\n",
       "      <td>0.703337</td>\n",
       "      <td>-0.506271</td>\n",
       "      <td>-0.012546</td>\n",
       "      <td>-0.649617</td>\n",
       "      <td>1.577006</td>\n",
       "      <td>-0.414650</td>\n",
       "      <td>0.486180</td>\n",
       "      <td>...</td>\n",
       "      <td>0.261057</td>\n",
       "      <td>0.643078</td>\n",
       "      <td>0.376777</td>\n",
       "      <td>0.008797</td>\n",
       "      <td>-0.473649</td>\n",
       "      <td>-0.818267</td>\n",
       "      <td>-0.002415</td>\n",
       "      <td>0.013649</td>\n",
       "      <td>217.00</td>\n",
       "      <td>0</td>\n",
       "    </tr>\n",
       "  </tbody>\n",
       "</table>\n",
       "<p>5 rows × 31 columns</p>\n",
       "</div>"
      ],
      "text/plain": [
       "            Time         V1         V2        V3        V4        V5  \\\n",
       "284802  172786.0 -11.881118  10.071785 -9.834783 -2.066656 -5.364473   \n",
       "284803  172787.0  -0.732789  -0.055080  2.035030 -0.738589  0.868229   \n",
       "284804  172788.0   1.919565  -0.301254 -3.249640 -0.557828  2.630515   \n",
       "284805  172788.0  -0.240440   0.530483  0.702510  0.689799 -0.377961   \n",
       "284806  172792.0  -0.533413  -0.189733  0.703337 -0.506271 -0.012546   \n",
       "\n",
       "              V6        V7        V8        V9  ...       V21       V22  \\\n",
       "284802 -2.606837 -4.918215  7.305334  1.914428  ...  0.213454  0.111864   \n",
       "284803  1.058415  0.024330  0.294869  0.584800  ...  0.214205  0.924384   \n",
       "284804  3.031260 -0.296827  0.708417  0.432454  ...  0.232045  0.578229   \n",
       "284805  0.623708 -0.686180  0.679145  0.392087  ...  0.265245  0.800049   \n",
       "284806 -0.649617  1.577006 -0.414650  0.486180  ...  0.261057  0.643078   \n",
       "\n",
       "             V23       V24       V25       V26       V27       V28  Amount  \\\n",
       "284802  1.014480 -0.509348  1.436807  0.250034  0.943651  0.823731    0.77   \n",
       "284803  0.012463 -1.016226 -0.606624 -0.395255  0.068472 -0.053527   24.79   \n",
       "284804 -0.037501  0.640134  0.265745 -0.087371  0.004455 -0.026561   67.88   \n",
       "284805 -0.163298  0.123205 -0.569159  0.546668  0.108821  0.104533   10.00   \n",
       "284806  0.376777  0.008797 -0.473649 -0.818267 -0.002415  0.013649  217.00   \n",
       "\n",
       "        Class  \n",
       "284802      0  \n",
       "284803      0  \n",
       "284804      0  \n",
       "284805      0  \n",
       "284806      0  \n",
       "\n",
       "[5 rows x 31 columns]"
      ]
     },
     "execution_count": 6,
     "metadata": {},
     "output_type": "execute_result"
    }
   ],
   "source": [
    "df = pd.read_csv('C:/Users/KIIT/OneDrive/Desktop/6th sem projects/credit card fraud detection/creditcard.csv')\n",
    "df.head()\n",
    "# First 5 rows\n",
    "df.tail()   #Last 5 rows"
   ]
  },
  {
   "cell_type": "code",
   "execution_count": 7,
   "id": "4c92f001",
   "metadata": {},
   "outputs": [
    {
     "name": "stdout",
     "output_type": "stream",
     "text": [
      "<class 'pandas.core.frame.DataFrame'>\n",
      "RangeIndex: 284807 entries, 0 to 284806\n",
      "Data columns (total 31 columns):\n",
      " #   Column  Non-Null Count   Dtype  \n",
      "---  ------  --------------   -----  \n",
      " 0   Time    284807 non-null  float64\n",
      " 1   V1      284807 non-null  float64\n",
      " 2   V2      284807 non-null  float64\n",
      " 3   V3      284807 non-null  float64\n",
      " 4   V4      284807 non-null  float64\n",
      " 5   V5      284807 non-null  float64\n",
      " 6   V6      284807 non-null  float64\n",
      " 7   V7      284807 non-null  float64\n",
      " 8   V8      284807 non-null  float64\n",
      " 9   V9      284807 non-null  float64\n",
      " 10  V10     284807 non-null  float64\n",
      " 11  V11     284807 non-null  float64\n",
      " 12  V12     284807 non-null  float64\n",
      " 13  V13     284807 non-null  float64\n",
      " 14  V14     284807 non-null  float64\n",
      " 15  V15     284807 non-null  float64\n",
      " 16  V16     284807 non-null  float64\n",
      " 17  V17     284807 non-null  float64\n",
      " 18  V18     284807 non-null  float64\n",
      " 19  V19     284807 non-null  float64\n",
      " 20  V20     284807 non-null  float64\n",
      " 21  V21     284807 non-null  float64\n",
      " 22  V22     284807 non-null  float64\n",
      " 23  V23     284807 non-null  float64\n",
      " 24  V24     284807 non-null  float64\n",
      " 25  V25     284807 non-null  float64\n",
      " 26  V26     284807 non-null  float64\n",
      " 27  V27     284807 non-null  float64\n",
      " 28  V28     284807 non-null  float64\n",
      " 29  Amount  284807 non-null  float64\n",
      " 30  Class   284807 non-null  int64  \n",
      "dtypes: float64(30), int64(1)\n",
      "memory usage: 67.4 MB\n"
     ]
    }
   ],
   "source": [
    "# df.describe()\n",
    "df.info()"
   ]
  },
  {
   "cell_type": "code",
   "execution_count": 8,
   "id": "590177ae",
   "metadata": {},
   "outputs": [
    {
     "data": {
      "text/plain": [
       "Time      0\n",
       "V1        0\n",
       "V2        0\n",
       "V3        0\n",
       "V4        0\n",
       "V5        0\n",
       "V6        0\n",
       "V7        0\n",
       "V8        0\n",
       "V9        0\n",
       "V10       0\n",
       "V11       0\n",
       "V12       0\n",
       "V13       0\n",
       "V14       0\n",
       "V15       0\n",
       "V16       0\n",
       "V17       0\n",
       "V18       0\n",
       "V19       0\n",
       "V20       0\n",
       "V21       0\n",
       "V22       0\n",
       "V23       0\n",
       "V24       0\n",
       "V25       0\n",
       "V26       0\n",
       "V27       0\n",
       "V28       0\n",
       "Amount    0\n",
       "Class     0\n",
       "dtype: int64"
      ]
     },
     "execution_count": 8,
     "metadata": {},
     "output_type": "execute_result"
    }
   ],
   "source": [
    "#Checking the number of missing values in each column\n",
    "df.isnull().sum()"
   ]
  },
  {
   "cell_type": "code",
   "execution_count": 9,
   "id": "72d50730",
   "metadata": {},
   "outputs": [
    {
     "data": {
      "text/plain": [
       "0    284315\n",
       "1       492\n",
       "Name: Class, dtype: int64"
      ]
     },
     "execution_count": 9,
     "metadata": {},
     "output_type": "execute_result"
    }
   ],
   "source": [
    "# Distribution of legit  &&  Fraudulent Transactions\n",
    "df['Class'].value_counts()\n",
    "\n",
    "# 0  -> Normal Transaction\n",
    "# 1  -> Fradulent Transaction"
   ]
  },
  {
   "cell_type": "code",
   "execution_count": 10,
   "id": "8c3efe7c",
   "metadata": {},
   "outputs": [],
   "source": [
    "no_fraud = df[df['Class'] == 1]\n",
    "number_fraud = len(df[df.Class == 1])\n",
    "no_no_fraud = df[df['Class'] == 0]\n",
    "number_no_fraud = len(df[df.Class == 0])"
   ]
  },
  {
   "cell_type": "code",
   "execution_count": 11,
   "id": "68de11ca",
   "metadata": {},
   "outputs": [
    {
     "name": "stdout",
     "output_type": "stream",
     "text": [
      "492\n"
     ]
    }
   ],
   "source": [
    "print(number_fraud)"
   ]
  },
  {
   "cell_type": "code",
   "execution_count": 12,
   "id": "9a0d020b",
   "metadata": {},
   "outputs": [
    {
     "name": "stdout",
     "output_type": "stream",
     "text": [
      "284315\n"
     ]
    }
   ],
   "source": [
    "print(number_no_fraud)"
   ]
  },
  {
   "cell_type": "markdown",
   "id": "7c60e8f3",
   "metadata": {},
   "source": [
    "# Matplotlib for data visualization and EDA"
   ]
  },
  {
   "cell_type": "code",
   "execution_count": 13,
   "id": "8479eade",
   "metadata": {},
   "outputs": [
    {
     "data": {
      "image/png": "[encoded data removed]",
      "text/plain": [
       "<Figure size 1080x360 with 1 Axes>"
      ]
     },
     "metadata": {
      "needs_background": "light"
     },
     "output_type": "display_data"
    }
   ],
   "source": [
    "df_fraud = df[df['Class'] == 1]       #Recovery of Fraud data\n",
    "plt.figure(figsize = (15,5))\n",
    "plt.scatter(df_fraud['Time'], df_fraud['Amount'])  #displaying fraud datasets according to the timing of the data\n",
    "plt.title('Scatter plot amount Fraud')\n",
    "plt.xlabel('Time')\n",
    "plt.ylabel('Amount')\n",
    "plt.xlim([0, 175000])\n",
    "plt.ylim([0, 2500])\n",
    "\n",
    "plt.show()"
   ]
  },
  {
   "cell_type": "markdown",
   "id": "5f916180",
   "metadata": {},
   "source": [
    "We can't feed this data in our Machine Learning Model. Cause for only '0' values there is more than 2 lakh data.\n",
    "As fraud data points are very less."
   ]
  },
  {
   "cell_type": "markdown",
   "id": "1475967f",
   "metadata": {},
   "source": [
    "# As the dataset is highly unbalanced so we need to balance it in 2 separate transactions"
   ]
  },
  {
   "cell_type": "code",
   "execution_count": 14,
   "id": "dc8d5708",
   "metadata": {},
   "outputs": [],
   "source": [
    "#  0 -> NORMAL DISTRIBUTION\n",
    "#  1 -> FRAUDULENT DISTRIBUTIONS\n",
    "# Separating the data for analysis\n",
    "legit = df[df.Class == 0]\n",
    "fraud = df[df.Class == 1]"
   ]
  },
  {
   "cell_type": "code",
   "execution_count": 15,
   "id": "3fed350f",
   "metadata": {},
   "outputs": [
    {
     "name": "stdout",
     "output_type": "stream",
     "text": [
      "(284315, 31)\n"
     ]
    }
   ],
   "source": [
    "print(legit.shape)     # Rest all 284315 data are legit type."
   ]
  },
  {
   "cell_type": "code",
   "execution_count": 16,
   "id": "f252115b",
   "metadata": {},
   "outputs": [
    {
     "name": "stdout",
     "output_type": "stream",
     "text": [
      "(492, 31)\n"
     ]
    }
   ],
   "source": [
    "print(fraud.shape)       # Only 492 data are fraudulent"
   ]
  },
  {
   "cell_type": "code",
   "execution_count": 17,
   "id": "365c67b6",
   "metadata": {},
   "outputs": [
    {
     "data": {
      "text/plain": [
       "count    284315.000000\n",
       "mean         88.291022\n",
       "std         250.105092\n",
       "min           0.000000\n",
       "25%           5.650000\n",
       "50%          22.000000\n",
       "75%          77.050000\n",
       "max       25691.160000\n",
       "Name: Amount, dtype: float64"
      ]
     },
     "execution_count": 17,
     "metadata": {},
     "output_type": "execute_result"
    }
   ],
   "source": [
    "# Statistical measures of the data\n",
    "legit.Amount.describe()"
   ]
  },
  {
   "cell_type": "code",
   "execution_count": 18,
   "id": "7655475e",
   "metadata": {},
   "outputs": [
    {
     "data": {
      "text/plain": [
       "count     492.000000\n",
       "mean      122.211321\n",
       "std       256.683288\n",
       "min         0.000000\n",
       "25%         1.000000\n",
       "50%         9.250000\n",
       "75%       105.890000\n",
       "max      2125.870000\n",
       "Name: Amount, dtype: float64"
      ]
     },
     "execution_count": 18,
     "metadata": {},
     "output_type": "execute_result"
    }
   ],
   "source": [
    "fraud.Amount.describe()"
   ]
  },
  {
   "cell_type": "code",
   "execution_count": 19,
   "id": "f1970052",
   "metadata": {},
   "outputs": [
    {
     "data": {
      "text/html": [
       "<div>\n",
       "<style scoped>\n",
       "    .dataframe tbody tr th:only-of-type {\n",
       "        vertical-align: middle;\n",
       "    }\n",
       "\n",
       "    .dataframe tbody tr th {\n",
       "        vertical-align: top;\n",
       "    }\n",
       "\n",
       "    .dataframe thead th {\n",
       "        text-align: right;\n",
       "    }\n",
       "</style>\n",
       "<table border=\"1\" class=\"dataframe\">\n",
       "  <thead>\n",
       "    <tr style=\"text-align: right;\">\n",
       "      <th></th>\n",
       "      <th>Time</th>\n",
       "      <th>V1</th>\n",
       "      <th>V2</th>\n",
       "      <th>V3</th>\n",
       "      <th>V4</th>\n",
       "      <th>V5</th>\n",
       "      <th>V6</th>\n",
       "      <th>V7</th>\n",
       "      <th>V8</th>\n",
       "      <th>V9</th>\n",
       "      <th>...</th>\n",
       "      <th>V20</th>\n",
       "      <th>V21</th>\n",
       "      <th>V22</th>\n",
       "      <th>V23</th>\n",
       "      <th>V24</th>\n",
       "      <th>V25</th>\n",
       "      <th>V26</th>\n",
       "      <th>V27</th>\n",
       "      <th>V28</th>\n",
       "      <th>Amount</th>\n",
       "    </tr>\n",
       "    <tr>\n",
       "      <th>Class</th>\n",
       "      <th></th>\n",
       "      <th></th>\n",
       "      <th></th>\n",
       "      <th></th>\n",
       "      <th></th>\n",
       "      <th></th>\n",
       "      <th></th>\n",
       "      <th></th>\n",
       "      <th></th>\n",
       "      <th></th>\n",
       "      <th></th>\n",
       "      <th></th>\n",
       "      <th></th>\n",
       "      <th></th>\n",
       "      <th></th>\n",
       "      <th></th>\n",
       "      <th></th>\n",
       "      <th></th>\n",
       "      <th></th>\n",
       "      <th></th>\n",
       "      <th></th>\n",
       "    </tr>\n",
       "  </thead>\n",
       "  <tbody>\n",
       "    <tr>\n",
       "      <th>0</th>\n",
       "      <td>94838.202258</td>\n",
       "      <td>0.008258</td>\n",
       "      <td>-0.006271</td>\n",
       "      <td>0.012171</td>\n",
       "      <td>-0.007860</td>\n",
       "      <td>0.005453</td>\n",
       "      <td>0.002419</td>\n",
       "      <td>0.009637</td>\n",
       "      <td>-0.000987</td>\n",
       "      <td>0.004467</td>\n",
       "      <td>...</td>\n",
       "      <td>-0.000644</td>\n",
       "      <td>-0.001235</td>\n",
       "      <td>-0.000024</td>\n",
       "      <td>0.000070</td>\n",
       "      <td>0.000182</td>\n",
       "      <td>-0.000072</td>\n",
       "      <td>-0.000089</td>\n",
       "      <td>-0.000295</td>\n",
       "      <td>-0.000131</td>\n",
       "      <td>88.291022</td>\n",
       "    </tr>\n",
       "    <tr>\n",
       "      <th>1</th>\n",
       "      <td>80746.806911</td>\n",
       "      <td>-4.771948</td>\n",
       "      <td>3.623778</td>\n",
       "      <td>-7.033281</td>\n",
       "      <td>4.542029</td>\n",
       "      <td>-3.151225</td>\n",
       "      <td>-1.397737</td>\n",
       "      <td>-5.568731</td>\n",
       "      <td>0.570636</td>\n",
       "      <td>-2.581123</td>\n",
       "      <td>...</td>\n",
       "      <td>0.372319</td>\n",
       "      <td>0.713588</td>\n",
       "      <td>0.014049</td>\n",
       "      <td>-0.040308</td>\n",
       "      <td>-0.105130</td>\n",
       "      <td>0.041449</td>\n",
       "      <td>0.051648</td>\n",
       "      <td>0.170575</td>\n",
       "      <td>0.075667</td>\n",
       "      <td>122.211321</td>\n",
       "    </tr>\n",
       "  </tbody>\n",
       "</table>\n",
       "<p>2 rows × 30 columns</p>\n",
       "</div>"
      ],
      "text/plain": [
       "               Time        V1        V2        V3        V4        V5  \\\n",
       "Class                                                                   \n",
       "0      94838.202258  0.008258 -0.006271  0.012171 -0.007860  0.005453   \n",
       "1      80746.806911 -4.771948  3.623778 -7.033281  4.542029 -3.151225   \n",
       "\n",
       "             V6        V7        V8        V9  ...       V20       V21  \\\n",
       "Class                                          ...                       \n",
       "0      0.002419  0.009637 -0.000987  0.004467  ... -0.000644 -0.001235   \n",
       "1     -1.397737 -5.568731  0.570636 -2.581123  ...  0.372319  0.713588   \n",
       "\n",
       "            V22       V23       V24       V25       V26       V27       V28  \\\n",
       "Class                                                                         \n",
       "0     -0.000024  0.000070  0.000182 -0.000072 -0.000089 -0.000295 -0.000131   \n",
       "1      0.014049 -0.040308 -0.105130  0.041449  0.051648  0.170575  0.075667   \n",
       "\n",
       "           Amount  \n",
       "Class              \n",
       "0       88.291022  \n",
       "1      122.211321  \n",
       "\n",
       "[2 rows x 30 columns]"
      ]
     },
     "execution_count": 19,
     "metadata": {},
     "output_type": "execute_result"
    }
   ],
   "source": [
    "# Compare the values of both of these transactions\n",
    "df.groupby('Class').mean()"
   ]
  },
  {
   "cell_type": "code",
   "execution_count": 20,
   "id": "efc787ec",
   "metadata": {},
   "outputs": [],
   "source": [
    "# Dealing with unbalanced data  more than 2 lakh data\n",
    "# So we are using Under-Sampling Method\n",
    "\n",
    "# Building a  sample dataset containing similar distributions\n",
    "# of normal transactions and fraudulent transactions.\n",
    "\n",
    "# BUILD A SAMPLE DATASET CONTAINING SIMILAR DISTRIBUTIONS\n",
    "# OF NORMAL TRANSACTIONS AND FRAUDULENT TRANSACTIONS"
   ]
  },
  {
   "cell_type": "markdown",
   "id": "5cc01d1a",
   "metadata": {},
   "source": [
    "Normal legit Transactions are taken : 492 \n",
    "As Fraudulent transaction number is 492.\n",
    "So we are collecting only those 492 datasets from the 4 lakh dataset."
   ]
  },
  {
   "cell_type": "code",
   "execution_count": 21,
   "id": "f781a3bd",
   "metadata": {},
   "outputs": [],
   "source": [
    "legit_sample = legit.sample(n = 492)\n",
    "#randomly the 492 datasets are being taken in concatenating"
   ]
  },
  {
   "cell_type": "code",
   "execution_count": 22,
   "id": "a1be4ac4",
   "metadata": {},
   "outputs": [],
   "source": [
    "# Concatenating of two dataframes\n",
    "# Axis = 0 is given to concat all the row values one by one\n",
    "\n",
    "new_dataset = pd.concat([legit_sample, fraud], axis = 0)"
   ]
  },
  {
   "cell_type": "code",
   "execution_count": 23,
   "id": "f7d08556",
   "metadata": {},
   "outputs": [
    {
     "data": {
      "text/html": [
       "<div>\n",
       "<style scoped>\n",
       "    .dataframe tbody tr th:only-of-type {\n",
       "        vertical-align: middle;\n",
       "    }\n",
       "\n",
       "    .dataframe tbody tr th {\n",
       "        vertical-align: top;\n",
       "    }\n",
       "\n",
       "    .dataframe thead th {\n",
       "        text-align: right;\n",
       "    }\n",
       "</style>\n",
       "<table border=\"1\" class=\"dataframe\">\n",
       "  <thead>\n",
       "    <tr style=\"text-align: right;\">\n",
       "      <th></th>\n",
       "      <th>Time</th>\n",
       "      <th>V1</th>\n",
       "      <th>V2</th>\n",
       "      <th>V3</th>\n",
       "      <th>V4</th>\n",
       "      <th>V5</th>\n",
       "      <th>V6</th>\n",
       "      <th>V7</th>\n",
       "      <th>V8</th>\n",
       "      <th>V9</th>\n",
       "      <th>...</th>\n",
       "      <th>V21</th>\n",
       "      <th>V22</th>\n",
       "      <th>V23</th>\n",
       "      <th>V24</th>\n",
       "      <th>V25</th>\n",
       "      <th>V26</th>\n",
       "      <th>V27</th>\n",
       "      <th>V28</th>\n",
       "      <th>Amount</th>\n",
       "      <th>Class</th>\n",
       "    </tr>\n",
       "  </thead>\n",
       "  <tbody>\n",
       "    <tr>\n",
       "      <th>254860</th>\n",
       "      <td>156948.0</td>\n",
       "      <td>-0.096979</td>\n",
       "      <td>-0.137640</td>\n",
       "      <td>0.729204</td>\n",
       "      <td>-1.295986</td>\n",
       "      <td>-0.105474</td>\n",
       "      <td>0.935541</td>\n",
       "      <td>-0.875226</td>\n",
       "      <td>-0.399578</td>\n",
       "      <td>-0.710269</td>\n",
       "      <td>...</td>\n",
       "      <td>1.003611</td>\n",
       "      <td>0.394128</td>\n",
       "      <td>-0.509440</td>\n",
       "      <td>-1.140972</td>\n",
       "      <td>1.355837</td>\n",
       "      <td>0.332827</td>\n",
       "      <td>0.138839</td>\n",
       "      <td>0.163633</td>\n",
       "      <td>54.00</td>\n",
       "      <td>0</td>\n",
       "    </tr>\n",
       "    <tr>\n",
       "      <th>256759</th>\n",
       "      <td>157843.0</td>\n",
       "      <td>1.487418</td>\n",
       "      <td>-1.323441</td>\n",
       "      <td>-0.798170</td>\n",
       "      <td>0.302493</td>\n",
       "      <td>-0.742597</td>\n",
       "      <td>-0.034375</td>\n",
       "      <td>-0.289082</td>\n",
       "      <td>-0.071228</td>\n",
       "      <td>1.399081</td>\n",
       "      <td>...</td>\n",
       "      <td>0.333484</td>\n",
       "      <td>0.585397</td>\n",
       "      <td>-0.102529</td>\n",
       "      <td>0.649220</td>\n",
       "      <td>-0.204641</td>\n",
       "      <td>0.070424</td>\n",
       "      <td>-0.037091</td>\n",
       "      <td>0.012262</td>\n",
       "      <td>283.09</td>\n",
       "      <td>0</td>\n",
       "    </tr>\n",
       "    <tr>\n",
       "      <th>28373</th>\n",
       "      <td>34976.0</td>\n",
       "      <td>-0.894049</td>\n",
       "      <td>1.205385</td>\n",
       "      <td>-0.168480</td>\n",
       "      <td>-0.830064</td>\n",
       "      <td>0.161660</td>\n",
       "      <td>-0.013997</td>\n",
       "      <td>1.447914</td>\n",
       "      <td>-0.088560</td>\n",
       "      <td>0.649609</td>\n",
       "      <td>...</td>\n",
       "      <td>-0.225837</td>\n",
       "      <td>-0.027687</td>\n",
       "      <td>-0.257642</td>\n",
       "      <td>-0.995068</td>\n",
       "      <td>-0.149433</td>\n",
       "      <td>0.342312</td>\n",
       "      <td>0.180206</td>\n",
       "      <td>-0.215901</td>\n",
       "      <td>122.01</td>\n",
       "      <td>0</td>\n",
       "    </tr>\n",
       "    <tr>\n",
       "      <th>21776</th>\n",
       "      <td>31851.0</td>\n",
       "      <td>-1.729758</td>\n",
       "      <td>-1.621176</td>\n",
       "      <td>2.177632</td>\n",
       "      <td>1.150548</td>\n",
       "      <td>1.136627</td>\n",
       "      <td>-0.398054</td>\n",
       "      <td>-1.321851</td>\n",
       "      <td>0.540912</td>\n",
       "      <td>0.540749</td>\n",
       "      <td>...</td>\n",
       "      <td>0.172479</td>\n",
       "      <td>0.028873</td>\n",
       "      <td>0.358806</td>\n",
       "      <td>-0.432656</td>\n",
       "      <td>-0.355263</td>\n",
       "      <td>0.480528</td>\n",
       "      <td>0.064828</td>\n",
       "      <td>0.165444</td>\n",
       "      <td>63.74</td>\n",
       "      <td>0</td>\n",
       "    </tr>\n",
       "    <tr>\n",
       "      <th>119970</th>\n",
       "      <td>75655.0</td>\n",
       "      <td>-3.678716</td>\n",
       "      <td>4.122485</td>\n",
       "      <td>-1.419054</td>\n",
       "      <td>-0.128100</td>\n",
       "      <td>-0.128107</td>\n",
       "      <td>-0.900037</td>\n",
       "      <td>1.026856</td>\n",
       "      <td>-0.174981</td>\n",
       "      <td>2.951251</td>\n",
       "      <td>...</td>\n",
       "      <td>-0.444935</td>\n",
       "      <td>0.430697</td>\n",
       "      <td>0.206986</td>\n",
       "      <td>0.020717</td>\n",
       "      <td>0.044245</td>\n",
       "      <td>-0.392418</td>\n",
       "      <td>1.615018</td>\n",
       "      <td>0.537842</td>\n",
       "      <td>3.79</td>\n",
       "      <td>0</td>\n",
       "    </tr>\n",
       "    <tr>\n",
       "      <th>201294</th>\n",
       "      <td>133823.0</td>\n",
       "      <td>-0.248354</td>\n",
       "      <td>0.818560</td>\n",
       "      <td>0.192115</td>\n",
       "      <td>-0.720319</td>\n",
       "      <td>0.207939</td>\n",
       "      <td>-0.821582</td>\n",
       "      <td>0.762821</td>\n",
       "      <td>0.084976</td>\n",
       "      <td>0.193260</td>\n",
       "      <td>...</td>\n",
       "      <td>-0.252599</td>\n",
       "      <td>-0.612283</td>\n",
       "      <td>0.111244</td>\n",
       "      <td>-0.049322</td>\n",
       "      <td>-0.564253</td>\n",
       "      <td>0.132489</td>\n",
       "      <td>0.342629</td>\n",
       "      <td>0.142263</td>\n",
       "      <td>8.97</td>\n",
       "      <td>0</td>\n",
       "    </tr>\n",
       "    <tr>\n",
       "      <th>208543</th>\n",
       "      <td>137161.0</td>\n",
       "      <td>-0.039117</td>\n",
       "      <td>0.185408</td>\n",
       "      <td>0.534199</td>\n",
       "      <td>-0.518384</td>\n",
       "      <td>0.507762</td>\n",
       "      <td>-1.047191</td>\n",
       "      <td>0.349572</td>\n",
       "      <td>-0.379814</td>\n",
       "      <td>0.963898</td>\n",
       "      <td>...</td>\n",
       "      <td>0.375585</td>\n",
       "      <td>1.625604</td>\n",
       "      <td>0.138234</td>\n",
       "      <td>0.105080</td>\n",
       "      <td>-1.976533</td>\n",
       "      <td>-0.638483</td>\n",
       "      <td>0.425550</td>\n",
       "      <td>0.201312</td>\n",
       "      <td>12.18</td>\n",
       "      <td>0</td>\n",
       "    </tr>\n",
       "    <tr>\n",
       "      <th>102084</th>\n",
       "      <td>68047.0</td>\n",
       "      <td>-0.377307</td>\n",
       "      <td>1.124013</td>\n",
       "      <td>1.587981</td>\n",
       "      <td>2.655368</td>\n",
       "      <td>0.688773</td>\n",
       "      <td>0.329955</td>\n",
       "      <td>1.205755</td>\n",
       "      <td>-0.388010</td>\n",
       "      <td>-1.493243</td>\n",
       "      <td>...</td>\n",
       "      <td>-0.255742</td>\n",
       "      <td>-0.435824</td>\n",
       "      <td>0.212018</td>\n",
       "      <td>0.169070</td>\n",
       "      <td>-0.920654</td>\n",
       "      <td>-0.255362</td>\n",
       "      <td>-0.373513</td>\n",
       "      <td>-0.322672</td>\n",
       "      <td>35.02</td>\n",
       "      <td>0</td>\n",
       "    </tr>\n",
       "    <tr>\n",
       "      <th>284537</th>\n",
       "      <td>172540.0</td>\n",
       "      <td>-2.944587</td>\n",
       "      <td>3.371321</td>\n",
       "      <td>-3.218726</td>\n",
       "      <td>-0.680454</td>\n",
       "      <td>-0.990116</td>\n",
       "      <td>-0.976945</td>\n",
       "      <td>-1.155017</td>\n",
       "      <td>2.387401</td>\n",
       "      <td>-0.064353</td>\n",
       "      <td>...</td>\n",
       "      <td>0.418261</td>\n",
       "      <td>1.031411</td>\n",
       "      <td>0.128593</td>\n",
       "      <td>-1.038539</td>\n",
       "      <td>-0.249787</td>\n",
       "      <td>-0.115942</td>\n",
       "      <td>0.285577</td>\n",
       "      <td>0.240771</td>\n",
       "      <td>1.29</td>\n",
       "      <td>0</td>\n",
       "    </tr>\n",
       "    <tr>\n",
       "      <th>280117</th>\n",
       "      <td>169329.0</td>\n",
       "      <td>2.118775</td>\n",
       "      <td>-0.171389</td>\n",
       "      <td>-3.540061</td>\n",
       "      <td>-1.077068</td>\n",
       "      <td>2.960780</td>\n",
       "      <td>2.697223</td>\n",
       "      <td>0.161899</td>\n",
       "      <td>0.497351</td>\n",
       "      <td>0.052801</td>\n",
       "      <td>...</td>\n",
       "      <td>0.145658</td>\n",
       "      <td>0.449285</td>\n",
       "      <td>-0.002268</td>\n",
       "      <td>0.759934</td>\n",
       "      <td>0.474666</td>\n",
       "      <td>0.261302</td>\n",
       "      <td>-0.067038</td>\n",
       "      <td>-0.085419</td>\n",
       "      <td>3.85</td>\n",
       "      <td>0</td>\n",
       "    </tr>\n",
       "  </tbody>\n",
       "</table>\n",
       "<p>10 rows × 31 columns</p>\n",
       "</div>"
      ],
      "text/plain": [
       "            Time        V1        V2        V3        V4        V5        V6  \\\n",
       "254860  156948.0 -0.096979 -0.137640  0.729204 -1.295986 -0.105474  0.935541   \n",
       "256759  157843.0  1.487418 -1.323441 -0.798170  0.302493 -0.742597 -0.034375   \n",
       "28373    34976.0 -0.894049  1.205385 -0.168480 -0.830064  0.161660 -0.013997   \n",
       "21776    31851.0 -1.729758 -1.621176  2.177632  1.150548  1.136627 -0.398054   \n",
       "119970   75655.0 -3.678716  4.122485 -1.419054 -0.128100 -0.128107 -0.900037   \n",
       "201294  133823.0 -0.248354  0.818560  0.192115 -0.720319  0.207939 -0.821582   \n",
       "208543  137161.0 -0.039117  0.185408  0.534199 -0.518384  0.507762 -1.047191   \n",
       "102084   68047.0 -0.377307  1.124013  1.587981  2.655368  0.688773  0.329955   \n",
       "284537  172540.0 -2.944587  3.371321 -3.218726 -0.680454 -0.990116 -0.976945   \n",
       "280117  169329.0  2.118775 -0.171389 -3.540061 -1.077068  2.960780  2.697223   \n",
       "\n",
       "              V7        V8        V9  ...       V21       V22       V23  \\\n",
       "254860 -0.875226 -0.399578 -0.710269  ...  1.003611  0.394128 -0.509440   \n",
       "256759 -0.289082 -0.071228  1.399081  ...  0.333484  0.585397 -0.102529   \n",
       "28373   1.447914 -0.088560  0.649609  ... -0.225837 -0.027687 -0.257642   \n",
       "21776  -1.321851  0.540912  0.540749  ...  0.172479  0.028873  0.358806   \n",
       "119970  1.026856 -0.174981  2.951251  ... -0.444935  0.430697  0.206986   \n",
       "201294  0.762821  0.084976  0.193260  ... -0.252599 -0.612283  0.111244   \n",
       "208543  0.349572 -0.379814  0.963898  ...  0.375585  1.625604  0.138234   \n",
       "102084  1.205755 -0.388010 -1.493243  ... -0.255742 -0.435824  0.212018   \n",
       "284537 -1.155017  2.387401 -0.064353  ...  0.418261  1.031411  0.128593   \n",
       "280117  0.161899  0.497351  0.052801  ...  0.145658  0.449285 -0.002268   \n",
       "\n",
       "             V24       V25       V26       V27       V28  Amount  Class  \n",
       "254860 -1.140972  1.355837  0.332827  0.138839  0.163633   54.00      0  \n",
       "256759  0.649220 -0.204641  0.070424 -0.037091  0.012262  283.09      0  \n",
       "28373  -0.995068 -0.149433  0.342312  0.180206 -0.215901  122.01      0  \n",
       "21776  -0.432656 -0.355263  0.480528  0.064828  0.165444   63.74      0  \n",
       "119970  0.020717  0.044245 -0.392418  1.615018  0.537842    3.79      0  \n",
       "201294 -0.049322 -0.564253  0.132489  0.342629  0.142263    8.97      0  \n",
       "208543  0.105080 -1.976533 -0.638483  0.425550  0.201312   12.18      0  \n",
       "102084  0.169070 -0.920654 -0.255362 -0.373513 -0.322672   35.02      0  \n",
       "284537 -1.038539 -0.249787 -0.115942  0.285577  0.240771    1.29      0  \n",
       "280117  0.759934  0.474666  0.261302 -0.067038 -0.085419    3.85      0  \n",
       "\n",
       "[10 rows x 31 columns]"
      ]
     },
     "execution_count": 23,
     "metadata": {},
     "output_type": "execute_result"
    }
   ],
   "source": [
    "# print(new_dataset)\n",
    "new_dataset.head(10)"
   ]
  },
  {
   "cell_type": "code",
   "execution_count": 24,
   "id": "d0fb6cbe",
   "metadata": {},
   "outputs": [
    {
     "data": {
      "text/html": [
       "<div>\n",
       "<style scoped>\n",
       "    .dataframe tbody tr th:only-of-type {\n",
       "        vertical-align: middle;\n",
       "    }\n",
       "\n",
       "    .dataframe tbody tr th {\n",
       "        vertical-align: top;\n",
       "    }\n",
       "\n",
       "    .dataframe thead th {\n",
       "        text-align: right;\n",
       "    }\n",
       "</style>\n",
       "<table border=\"1\" class=\"dataframe\">\n",
       "  <thead>\n",
       "    <tr style=\"text-align: right;\">\n",
       "      <th></th>\n",
       "      <th>Time</th>\n",
       "      <th>V1</th>\n",
       "      <th>V2</th>\n",
       "      <th>V3</th>\n",
       "      <th>V4</th>\n",
       "      <th>V5</th>\n",
       "      <th>V6</th>\n",
       "      <th>V7</th>\n",
       "      <th>V8</th>\n",
       "      <th>V9</th>\n",
       "      <th>...</th>\n",
       "      <th>V21</th>\n",
       "      <th>V22</th>\n",
       "      <th>V23</th>\n",
       "      <th>V24</th>\n",
       "      <th>V25</th>\n",
       "      <th>V26</th>\n",
       "      <th>V27</th>\n",
       "      <th>V28</th>\n",
       "      <th>Amount</th>\n",
       "      <th>Class</th>\n",
       "    </tr>\n",
       "  </thead>\n",
       "  <tbody>\n",
       "    <tr>\n",
       "      <th>279863</th>\n",
       "      <td>169142.0</td>\n",
       "      <td>-1.927883</td>\n",
       "      <td>1.125653</td>\n",
       "      <td>-4.518331</td>\n",
       "      <td>1.749293</td>\n",
       "      <td>-1.566487</td>\n",
       "      <td>-2.010494</td>\n",
       "      <td>-0.882850</td>\n",
       "      <td>0.697211</td>\n",
       "      <td>-2.064945</td>\n",
       "      <td>...</td>\n",
       "      <td>0.778584</td>\n",
       "      <td>-0.319189</td>\n",
       "      <td>0.639419</td>\n",
       "      <td>-0.294885</td>\n",
       "      <td>0.537503</td>\n",
       "      <td>0.788395</td>\n",
       "      <td>0.292680</td>\n",
       "      <td>0.147968</td>\n",
       "      <td>390.00</td>\n",
       "      <td>1</td>\n",
       "    </tr>\n",
       "    <tr>\n",
       "      <th>280143</th>\n",
       "      <td>169347.0</td>\n",
       "      <td>1.378559</td>\n",
       "      <td>1.289381</td>\n",
       "      <td>-5.004247</td>\n",
       "      <td>1.411850</td>\n",
       "      <td>0.442581</td>\n",
       "      <td>-1.326536</td>\n",
       "      <td>-1.413170</td>\n",
       "      <td>0.248525</td>\n",
       "      <td>-1.127396</td>\n",
       "      <td>...</td>\n",
       "      <td>0.370612</td>\n",
       "      <td>0.028234</td>\n",
       "      <td>-0.145640</td>\n",
       "      <td>-0.081049</td>\n",
       "      <td>0.521875</td>\n",
       "      <td>0.739467</td>\n",
       "      <td>0.389152</td>\n",
       "      <td>0.186637</td>\n",
       "      <td>0.76</td>\n",
       "      <td>1</td>\n",
       "    </tr>\n",
       "    <tr>\n",
       "      <th>280149</th>\n",
       "      <td>169351.0</td>\n",
       "      <td>-0.676143</td>\n",
       "      <td>1.126366</td>\n",
       "      <td>-2.213700</td>\n",
       "      <td>0.468308</td>\n",
       "      <td>-1.120541</td>\n",
       "      <td>-0.003346</td>\n",
       "      <td>-2.234739</td>\n",
       "      <td>1.210158</td>\n",
       "      <td>-0.652250</td>\n",
       "      <td>...</td>\n",
       "      <td>0.751826</td>\n",
       "      <td>0.834108</td>\n",
       "      <td>0.190944</td>\n",
       "      <td>0.032070</td>\n",
       "      <td>-0.739695</td>\n",
       "      <td>0.471111</td>\n",
       "      <td>0.385107</td>\n",
       "      <td>0.194361</td>\n",
       "      <td>77.89</td>\n",
       "      <td>1</td>\n",
       "    </tr>\n",
       "    <tr>\n",
       "      <th>281144</th>\n",
       "      <td>169966.0</td>\n",
       "      <td>-3.113832</td>\n",
       "      <td>0.585864</td>\n",
       "      <td>-5.399730</td>\n",
       "      <td>1.817092</td>\n",
       "      <td>-0.840618</td>\n",
       "      <td>-2.943548</td>\n",
       "      <td>-2.208002</td>\n",
       "      <td>1.058733</td>\n",
       "      <td>-1.632333</td>\n",
       "      <td>...</td>\n",
       "      <td>0.583276</td>\n",
       "      <td>-0.269209</td>\n",
       "      <td>-0.456108</td>\n",
       "      <td>-0.183659</td>\n",
       "      <td>-0.328168</td>\n",
       "      <td>0.606116</td>\n",
       "      <td>0.884876</td>\n",
       "      <td>-0.253700</td>\n",
       "      <td>245.00</td>\n",
       "      <td>1</td>\n",
       "    </tr>\n",
       "    <tr>\n",
       "      <th>281674</th>\n",
       "      <td>170348.0</td>\n",
       "      <td>1.991976</td>\n",
       "      <td>0.158476</td>\n",
       "      <td>-2.583441</td>\n",
       "      <td>0.408670</td>\n",
       "      <td>1.151147</td>\n",
       "      <td>-0.096695</td>\n",
       "      <td>0.223050</td>\n",
       "      <td>-0.068384</td>\n",
       "      <td>0.577829</td>\n",
       "      <td>...</td>\n",
       "      <td>-0.164350</td>\n",
       "      <td>-0.295135</td>\n",
       "      <td>-0.072173</td>\n",
       "      <td>-0.450261</td>\n",
       "      <td>0.313267</td>\n",
       "      <td>-0.289617</td>\n",
       "      <td>0.002988</td>\n",
       "      <td>-0.015309</td>\n",
       "      <td>42.53</td>\n",
       "      <td>1</td>\n",
       "    </tr>\n",
       "  </tbody>\n",
       "</table>\n",
       "<p>5 rows × 31 columns</p>\n",
       "</div>"
      ],
      "text/plain": [
       "            Time        V1        V2        V3        V4        V5        V6  \\\n",
       "279863  169142.0 -1.927883  1.125653 -4.518331  1.749293 -1.566487 -2.010494   \n",
       "280143  169347.0  1.378559  1.289381 -5.004247  1.411850  0.442581 -1.326536   \n",
       "280149  169351.0 -0.676143  1.126366 -2.213700  0.468308 -1.120541 -0.003346   \n",
       "281144  169966.0 -3.113832  0.585864 -5.399730  1.817092 -0.840618 -2.943548   \n",
       "281674  170348.0  1.991976  0.158476 -2.583441  0.408670  1.151147 -0.096695   \n",
       "\n",
       "              V7        V8        V9  ...       V21       V22       V23  \\\n",
       "279863 -0.882850  0.697211 -2.064945  ...  0.778584 -0.319189  0.639419   \n",
       "280143 -1.413170  0.248525 -1.127396  ...  0.370612  0.028234 -0.145640   \n",
       "280149 -2.234739  1.210158 -0.652250  ...  0.751826  0.834108  0.190944   \n",
       "281144 -2.208002  1.058733 -1.632333  ...  0.583276 -0.269209 -0.456108   \n",
       "281674  0.223050 -0.068384  0.577829  ... -0.164350 -0.295135 -0.072173   \n",
       "\n",
       "             V24       V25       V26       V27       V28  Amount  Class  \n",
       "279863 -0.294885  0.537503  0.788395  0.292680  0.147968  390.00      1  \n",
       "280143 -0.081049  0.521875  0.739467  0.389152  0.186637    0.76      1  \n",
       "280149  0.032070 -0.739695  0.471111  0.385107  0.194361   77.89      1  \n",
       "281144 -0.183659 -0.328168  0.606116  0.884876 -0.253700  245.00      1  \n",
       "281674 -0.450261  0.313267 -0.289617  0.002988 -0.015309   42.53      1  \n",
       "\n",
       "[5 rows x 31 columns]"
      ]
     },
     "execution_count": 24,
     "metadata": {},
     "output_type": "execute_result"
    }
   ],
   "source": [
    "new_dataset.tail()\n",
    "# Fraudulent transactions"
   ]
  },
  {
   "cell_type": "code",
   "execution_count": 25,
   "id": "4141b454",
   "metadata": {},
   "outputs": [
    {
     "data": {
      "text/plain": [
       "0    492\n",
       "1    492\n",
       "Name: Class, dtype: int64"
      ]
     },
     "execution_count": 25,
     "metadata": {},
     "output_type": "execute_result"
    }
   ],
   "source": [
    "new_dataset['Class'].value_counts()"
   ]
  },
  {
   "cell_type": "code",
   "execution_count": 26,
   "id": "a2a5c3d5",
   "metadata": {},
   "outputs": [
    {
     "data": {
      "text/html": [
       "<div>\n",
       "<style scoped>\n",
       "    .dataframe tbody tr th:only-of-type {\n",
       "        vertical-align: middle;\n",
       "    }\n",
       "\n",
       "    .dataframe tbody tr th {\n",
       "        vertical-align: top;\n",
       "    }\n",
       "\n",
       "    .dataframe thead th {\n",
       "        text-align: right;\n",
       "    }\n",
       "</style>\n",
       "<table border=\"1\" class=\"dataframe\">\n",
       "  <thead>\n",
       "    <tr style=\"text-align: right;\">\n",
       "      <th></th>\n",
       "      <th>Time</th>\n",
       "      <th>V1</th>\n",
       "      <th>V2</th>\n",
       "      <th>V3</th>\n",
       "      <th>V4</th>\n",
       "      <th>V5</th>\n",
       "      <th>V6</th>\n",
       "      <th>V7</th>\n",
       "      <th>V8</th>\n",
       "      <th>V9</th>\n",
       "      <th>...</th>\n",
       "      <th>V20</th>\n",
       "      <th>V21</th>\n",
       "      <th>V22</th>\n",
       "      <th>V23</th>\n",
       "      <th>V24</th>\n",
       "      <th>V25</th>\n",
       "      <th>V26</th>\n",
       "      <th>V27</th>\n",
       "      <th>V28</th>\n",
       "      <th>Amount</th>\n",
       "    </tr>\n",
       "    <tr>\n",
       "      <th>Class</th>\n",
       "      <th></th>\n",
       "      <th></th>\n",
       "      <th></th>\n",
       "      <th></th>\n",
       "      <th></th>\n",
       "      <th></th>\n",
       "      <th></th>\n",
       "      <th></th>\n",
       "      <th></th>\n",
       "      <th></th>\n",
       "      <th></th>\n",
       "      <th></th>\n",
       "      <th></th>\n",
       "      <th></th>\n",
       "      <th></th>\n",
       "      <th></th>\n",
       "      <th></th>\n",
       "      <th></th>\n",
       "      <th></th>\n",
       "      <th></th>\n",
       "      <th></th>\n",
       "    </tr>\n",
       "  </thead>\n",
       "  <tbody>\n",
       "    <tr>\n",
       "      <th>0</th>\n",
       "      <td>99506.310976</td>\n",
       "      <td>-0.080879</td>\n",
       "      <td>0.033759</td>\n",
       "      <td>-0.078633</td>\n",
       "      <td>0.029238</td>\n",
       "      <td>0.053797</td>\n",
       "      <td>-0.047913</td>\n",
       "      <td>0.018436</td>\n",
       "      <td>0.061569</td>\n",
       "      <td>-0.063860</td>\n",
       "      <td>...</td>\n",
       "      <td>0.029740</td>\n",
       "      <td>-0.014477</td>\n",
       "      <td>0.041429</td>\n",
       "      <td>0.015790</td>\n",
       "      <td>-0.007398</td>\n",
       "      <td>-0.004684</td>\n",
       "      <td>-0.031247</td>\n",
       "      <td>0.009438</td>\n",
       "      <td>-0.010600</td>\n",
       "      <td>89.748984</td>\n",
       "    </tr>\n",
       "    <tr>\n",
       "      <th>1</th>\n",
       "      <td>80746.806911</td>\n",
       "      <td>-4.771948</td>\n",
       "      <td>3.623778</td>\n",
       "      <td>-7.033281</td>\n",
       "      <td>4.542029</td>\n",
       "      <td>-3.151225</td>\n",
       "      <td>-1.397737</td>\n",
       "      <td>-5.568731</td>\n",
       "      <td>0.570636</td>\n",
       "      <td>-2.581123</td>\n",
       "      <td>...</td>\n",
       "      <td>0.372319</td>\n",
       "      <td>0.713588</td>\n",
       "      <td>0.014049</td>\n",
       "      <td>-0.040308</td>\n",
       "      <td>-0.105130</td>\n",
       "      <td>0.041449</td>\n",
       "      <td>0.051648</td>\n",
       "      <td>0.170575</td>\n",
       "      <td>0.075667</td>\n",
       "      <td>122.211321</td>\n",
       "    </tr>\n",
       "  </tbody>\n",
       "</table>\n",
       "<p>2 rows × 30 columns</p>\n",
       "</div>"
      ],
      "text/plain": [
       "               Time        V1        V2        V3        V4        V5  \\\n",
       "Class                                                                   \n",
       "0      99506.310976 -0.080879  0.033759 -0.078633  0.029238  0.053797   \n",
       "1      80746.806911 -4.771948  3.623778 -7.033281  4.542029 -3.151225   \n",
       "\n",
       "             V6        V7        V8        V9  ...       V20       V21  \\\n",
       "Class                                          ...                       \n",
       "0     -0.047913  0.018436  0.061569 -0.063860  ...  0.029740 -0.014477   \n",
       "1     -1.397737 -5.568731  0.570636 -2.581123  ...  0.372319  0.713588   \n",
       "\n",
       "            V22       V23       V24       V25       V26       V27       V28  \\\n",
       "Class                                                                         \n",
       "0      0.041429  0.015790 -0.007398 -0.004684 -0.031247  0.009438 -0.010600   \n",
       "1      0.014049 -0.040308 -0.105130  0.041449  0.051648  0.170575  0.075667   \n",
       "\n",
       "           Amount  \n",
       "Class              \n",
       "0       89.748984  \n",
       "1      122.211321  \n",
       "\n",
       "[2 rows x 30 columns]"
      ]
     },
     "execution_count": 26,
     "metadata": {},
     "output_type": "execute_result"
    }
   ],
   "source": [
    "# Grouping the whole new dataset into according to their mean\n",
    "new_dataset.groupby('Class').mean()"
   ]
  },
  {
   "cell_type": "code",
   "execution_count": 27,
   "id": "9109ebb4",
   "metadata": {},
   "outputs": [
    {
     "data": {
      "text/plain": [
       "254860    0\n",
       "256759    0\n",
       "28373     0\n",
       "21776     0\n",
       "119970    0\n",
       "         ..\n",
       "279863    1\n",
       "280143    1\n",
       "280149    1\n",
       "281144    1\n",
       "281674    1\n",
       "Name: Class, Length: 984, dtype: int64"
      ]
     },
     "execution_count": 27,
     "metadata": {},
     "output_type": "execute_result"
    }
   ],
   "source": [
    "#Splitting the data into feautures && targets\n",
    "X = new_dataset.drop(columns = 'Class', axis = 1)\n",
    "Y = new_dataset['Class']\n",
    "Y"
   ]
  },
  {
   "cell_type": "markdown",
   "id": "dbfb5de9",
   "metadata": {},
   "source": [
    "# Axis = 1 represents  column\n",
    "# Axis = 0 represents  row"
   ]
  },
  {
   "cell_type": "markdown",
   "id": "1fc3a394",
   "metadata": {},
   "source": [
    "# Split the data into training  && Testing"
   ]
  },
  {
   "cell_type": "code",
   "execution_count": 28,
   "id": "917ac257",
   "metadata": {},
   "outputs": [],
   "source": [
    "X_train, X_test, Y_train, Y_test = train_test_split(X, Y, test_size = 0.2, stratify = Y, random_state = 2)"
   ]
  },
  {
   "cell_type": "code",
   "execution_count": 29,
   "id": "0f4e0a1b",
   "metadata": {},
   "outputs": [
    {
     "name": "stdout",
     "output_type": "stream",
     "text": [
      "(984, 30) (787, 30) (197, 30)\n"
     ]
    }
   ],
   "source": [
    "print(X.shape, X_train.shape, X_test.shape)\n",
    "\n",
    "#so 787 total data is trained data  &&  197 data is test data"
   ]
  },
  {
   "cell_type": "markdown",
   "id": "3e17f4d7",
   "metadata": {},
   "source": [
    "# Logistic Regression Model for Binary classification problem"
   ]
  },
  {
   "cell_type": "code",
   "execution_count": 30,
   "id": "0b19d611",
   "metadata": {},
   "outputs": [],
   "source": [
    "model_logistic = LogisticRegression()"
   ]
  },
  {
   "cell_type": "code",
   "execution_count": 31,
   "id": "043a095e",
   "metadata": {
    "scrolled": true
   },
   "outputs": [
    {
     "data": {
      "text/plain": [
       "LogisticRegression()"
      ]
     },
     "execution_count": 31,
     "metadata": {},
     "output_type": "execute_result"
    }
   ],
   "source": [
    "# Training the Logistic regression model with training data\n",
    "model_logistic.fit(X_train, Y_train)"
   ]
  },
  {
   "cell_type": "code",
   "execution_count": 32,
   "id": "503faf83",
   "metadata": {},
   "outputs": [
    {
     "name": "stdout",
     "output_type": "stream",
     "text": [
      "(984,) 100623    1\n",
      "32053     0\n",
      "114498    0\n",
      "262995    0\n",
      "211831    0\n",
      "         ..\n",
      "240238    0\n",
      "175654    0\n",
      "223618    1\n",
      "43061     1\n",
      "23796     0\n",
      "Name: Class, Length: 787, dtype: int64 247995    1\n",
      "108091    0\n",
      "120514    0\n",
      "186557    0\n",
      "15451     1\n",
      "         ..\n",
      "108258    1\n",
      "12108     1\n",
      "99506     1\n",
      "74496     1\n",
      "54576     0\n",
      "Name: Class, Length: 197, dtype: int64\n"
     ]
    }
   ],
   "source": [
    "print(Y.shape, Y_train, Y_test)"
   ]
  },
  {
   "cell_type": "markdown",
   "id": "3982be16",
   "metadata": {},
   "source": [
    "# Model evaluation based on accuracy score"
   ]
  },
  {
   "cell_type": "code",
   "execution_count": 33,
   "id": "e9897e76",
   "metadata": {},
   "outputs": [
    {
     "name": "stdout",
     "output_type": "stream",
     "text": [
      "0.9415501905972046\n"
     ]
    }
   ],
   "source": [
    "# As model are trained in X-train data it will chexck \n",
    "# from accuracy value predicted by our model\n",
    "\n",
    "#Accuracy on training data\n",
    "\n",
    "X_train_prediction = model_logistic.predict(X_train)\n",
    "training_data_accuracy = accuracy_score(X_train_prediction, Y_train)\n",
    "print(training_data_accuracy)"
   ]
  },
  {
   "cell_type": "code",
   "execution_count": 34,
   "id": "bea3364f",
   "metadata": {},
   "outputs": [
    {
     "name": "stdout",
     "output_type": "stream",
     "text": [
      "Accuracy on Training Data :  0.9415501905972046\n"
     ]
    }
   ],
   "source": [
    "print('Accuracy on Training Data : ', training_data_accuracy)"
   ]
  },
  {
   "cell_type": "code",
   "execution_count": 64,
   "id": "0abdef16",
   "metadata": {},
   "outputs": [],
   "source": [
    "# So predictions of accuracy score we got in case of training data is = 92%\n",
    "# so this is very good\n",
    "\n",
    "# So previously e created trained prediction\n",
    "# No we have to create the test based prediction and accuracy checking\n"
   ]
  },
  {
   "cell_type": "code",
   "execution_count": 65,
   "id": "520b2990",
   "metadata": {},
   "outputs": [
    {
     "name": "stdout",
     "output_type": "stream",
     "text": [
      "Accuracy in Testing data :  0.9187817258883249\n"
     ]
    }
   ],
   "source": [
    "X_test_prediction = model_logistic.predict(X_test)\n",
    "testing_data_accuracy = accuracy_score(X_test_prediction, Y_test)\n",
    "print(\"Accuracy in Testing data : \", testing_data_accuracy)"
   ]
  },
  {
   "cell_type": "code",
   "execution_count": 66,
   "id": "dff4e0ce",
   "metadata": {},
   "outputs": [],
   "source": [
    "# If the training and testing datasets accuaracy is\n",
    "# different then it will be gone for overfit or underfit"
   ]
  },
  {
   "cell_type": "markdown",
   "id": "e21638ed",
   "metadata": {},
   "source": [
    "# USING DECISION TREE MODEL ACCURACY CHECKING"
   ]
  },
  {
   "cell_type": "code",
   "execution_count": 67,
   "id": "1b6dba6d",
   "metadata": {},
   "outputs": [],
   "source": [
    "from sklearn.model_selection import train_test_split\n",
    "from sklearn.metrics import accuracy_score\n",
    "from sklearn import tree\n",
    "from sklearn.tree import DecisionTreeClassifier\n",
    "from sklearn.metrics import classification_report,confusion_matrix\n",
    "from sklearn.ensemble import RandomForestClassifier"
   ]
  },
  {
   "cell_type": "code",
   "execution_count": 68,
   "id": "f0b36c2d",
   "metadata": {},
   "outputs": [],
   "source": [
    "# pip install graphviz"
   ]
  },
  {
   "cell_type": "code",
   "execution_count": 69,
   "id": "42cedd17",
   "metadata": {},
   "outputs": [],
   "source": [
    "### PREDICTION AND EVALUATION WE NEED TO PREDICT OUR DECISION TREE AND USING GRAPHVIZ WE CAN DRAW DIAGRAMS\n"
   ]
  },
  {
   "cell_type": "markdown",
   "id": "0d3ca63b",
   "metadata": {},
   "source": [
    "# Using DecisionTreeClassifier"
   ]
  },
  {
   "cell_type": "code",
   "execution_count": 70,
   "id": "8f64209e",
   "metadata": {},
   "outputs": [],
   "source": [
    "dtree = DecisionTreeClassifier(criterion = 'entropy', random_state =1, max_depth =5)"
   ]
  },
  {
   "cell_type": "code",
   "execution_count": 71,
   "id": "d01ec923",
   "metadata": {},
   "outputs": [],
   "source": [
    "X_train, X_test, Y_train, Y_test = train_test_split(X, Y, test_size = 0.2, stratify = Y, random_state = 2)"
   ]
  },
  {
   "cell_type": "code",
   "execution_count": 72,
   "id": "2189f442",
   "metadata": {},
   "outputs": [
    {
     "data": {
      "text/plain": [
       "DecisionTreeClassifier(criterion='entropy', max_depth=5, random_state=1)"
      ]
     },
     "execution_count": 72,
     "metadata": {},
     "output_type": "execute_result"
    }
   ],
   "source": [
    "dtree"
   ]
  },
  {
   "cell_type": "markdown",
   "id": "10e89a7f",
   "metadata": {},
   "source": [
    "### Fit the data using training dataset and calculate accuarcy of both train and test data"
   ]
  },
  {
   "cell_type": "code",
   "execution_count": 73,
   "id": "e10b6a89",
   "metadata": {},
   "outputs": [
    {
     "data": {
      "text/plain": [
       "DecisionTreeClassifier(criterion='entropy', max_depth=5, random_state=1)"
      ]
     },
     "execution_count": 73,
     "metadata": {},
     "output_type": "execute_result"
    }
   ],
   "source": [
    "dtree.fit(X_train, Y_train)"
   ]
  },
  {
   "cell_type": "code",
   "execution_count": 74,
   "id": "cc4b4d45",
   "metadata": {},
   "outputs": [
    {
     "data": {
      "text/plain": [
       "0.9618805590851334"
      ]
     },
     "execution_count": 74,
     "metadata": {},
     "output_type": "execute_result"
    }
   ],
   "source": [
    "dtree.score(X_train, Y_train)"
   ]
  },
  {
   "cell_type": "code",
   "execution_count": 75,
   "id": "047a4867",
   "metadata": {},
   "outputs": [
    {
     "data": {
      "text/plain": [
       "0.9086294416243654"
      ]
     },
     "execution_count": 75,
     "metadata": {},
     "output_type": "execute_result"
    }
   ],
   "source": [
    "#Now testing the model\n",
    "\n",
    "dtree.score(X_test, Y_test)"
   ]
  },
  {
   "cell_type": "markdown",
   "id": "a82519b6",
   "metadata": {},
   "source": [
    "### Below the visulaization is done of Random Forest and DecisionTreeClassifier."
   ]
  },
  {
   "cell_type": "markdown",
   "id": "5b9cd781",
   "metadata": {},
   "source": [
    "### Calculating training and testing score>>>\n",
    "### Predictions and Evaluation Let's evaluate our decision tree"
   ]
  },
  {
   "cell_type": "code",
   "execution_count": 76,
   "id": "c55d9254",
   "metadata": {},
   "outputs": [
    {
     "name": "stdout",
     "output_type": "stream",
     "text": [
      "Confusion Matrix for Trained data in Decision Tree: \n",
      "\n",
      "\n",
      "[[385   8]\n",
      " [ 22 372]]\n",
      "\n",
      "\n",
      "              precision    recall  f1-score   support\n",
      "\n",
      "           0       0.95      0.98      0.96       393\n",
      "           1       0.98      0.94      0.96       394\n",
      "\n",
      "    accuracy                           0.96       787\n",
      "   macro avg       0.96      0.96      0.96       787\n",
      "weighted avg       0.96      0.96      0.96       787\n",
      "\n"
     ]
    }
   ],
   "source": [
    "predictions1 = dtree.predict(X_train)\n",
    "print(\"Confusion Matrix for Trained data in Decision Tree: \")\n",
    "print(\"\\n\")\n",
    "print(confusion_matrix(Y_train, predictions1))\n",
    "\n",
    "print(\"\\n\")\n",
    "\n",
    "print(classification_report(Y_train, predictions1))"
   ]
  },
  {
   "cell_type": "code",
   "execution_count": 77,
   "id": "1aca816e",
   "metadata": {},
   "outputs": [
    {
     "name": "stdout",
     "output_type": "stream",
     "text": [
      "Confusion Matrix for Testing data in Decision Tree: \n",
      "\n",
      "\n",
      "[[94  5]\n",
      " [13 85]]\n",
      "\n",
      "\n",
      "              precision    recall  f1-score   support\n",
      "\n",
      "           0       0.88      0.95      0.91        99\n",
      "           1       0.94      0.87      0.90        98\n",
      "\n",
      "    accuracy                           0.91       197\n",
      "   macro avg       0.91      0.91      0.91       197\n",
      "weighted avg       0.91      0.91      0.91       197\n",
      "\n"
     ]
    }
   ],
   "source": [
    "predictions1 = dtree.predict(X_test)\n",
    "\n",
    "print(\"Confusion Matrix for Testing data in Decision Tree: \")\n",
    "print(\"\\n\")\n",
    "\n",
    "print(confusion_matrix(Y_test, predictions1))\n",
    "\n",
    "print(\"\\n\")\n",
    "\n",
    "print(classification_report(Y_test, predictions1))"
   ]
  },
  {
   "cell_type": "code",
   "execution_count": 78,
   "id": "72b9f967",
   "metadata": {
    "scrolled": true
   },
   "outputs": [],
   "source": [
    "# predictions2 = dtree.predict(Y_test)\n",
    "\n",
    "# print(confusion_matrix(X_test, predictions2))\n",
    "# print(\"\\n\")\n",
    "# print(classification_report(X_test, predictions2))\n"
   ]
  },
  {
   "cell_type": "code",
   "execution_count": 79,
   "id": "38e08980",
   "metadata": {},
   "outputs": [
    {
     "name": "stdout",
     "output_type": "stream",
     "text": [
      "[[94  5]\n",
      " [13 85]]\n",
      "\n",
      "\n",
      "              precision    recall  f1-score   support\n",
      "\n",
      "           0       0.88      0.95      0.91        99\n",
      "           1       0.94      0.87      0.90        98\n",
      "\n",
      "    accuracy                           0.91       197\n",
      "   macro avg       0.91      0.91      0.91       197\n",
      "weighted avg       0.91      0.91      0.91       197\n",
      "\n"
     ]
    }
   ],
   "source": [
    "import numpy as np\n",
    "from sklearn.metrics import classification_report\n",
    "\n",
    "predictions2 = dtree.predict(X_test)\n",
    "\n",
    "# assuming X_test and predictions1 are arrays\n",
    "Y_test = np.array(Y_test).reshape(-1)\n",
    "predictions2 = np.array(predictions2).reshape(-1)\n",
    "print(confusion_matrix(Y_test, predictions2))\n",
    "\n",
    "print('\\n')\n",
    "\n",
    "print(classification_report(Y_test, predictions2))"
   ]
  },
  {
   "cell_type": "markdown",
   "id": "7cf84e90",
   "metadata": {},
   "source": [
    "### As there it's coming an error so we need Random Forest to customize it."
   ]
  },
  {
   "cell_type": "code",
   "execution_count": 80,
   "id": "9d058be4",
   "metadata": {},
   "outputs": [
    {
     "data": {
      "text/plain": [
       "RandomForestClassifier(n_estimators=50)"
      ]
     },
     "execution_count": 80,
     "metadata": {},
     "output_type": "execute_result"
    }
   ],
   "source": [
    "rfc = RandomForestClassifier(n_estimators = 50)\n",
    "rfc.fit(X_train, Y_train)"
   ]
  },
  {
   "cell_type": "code",
   "execution_count": 81,
   "id": "d31b007f",
   "metadata": {},
   "outputs": [
    {
     "name": "stdout",
     "output_type": "stream",
     "text": [
      "Training Accuracy:  1.0\n",
      "[[393   0]\n",
      " [  0 394]]\n",
      "\n",
      "\n",
      "              precision    recall  f1-score   support\n",
      "\n",
      "           0       1.00      1.00      1.00       393\n",
      "           1       1.00      1.00      1.00       394\n",
      "\n",
      "    accuracy                           1.00       787\n",
      "   macro avg       1.00      1.00      1.00       787\n",
      "weighted avg       1.00      1.00      1.00       787\n",
      "\n"
     ]
    }
   ],
   "source": [
    "rfc_pred = rfc.predict(X_train)\n",
    "rfc_train_acc = rfc.score(X_train, Y_train)\n",
    "print(\"Training Accuracy: \", rfc_train_acc)\n",
    "\n",
    "print(confusion_matrix(Y_train, rfc_pred))\n",
    "\n",
    "print('\\n')\n",
    "\n",
    "print(classification_report(Y_train, rfc_pred))"
   ]
  },
  {
   "cell_type": "code",
   "execution_count": 82,
   "id": "37fd0f7c",
   "metadata": {},
   "outputs": [
    {
     "name": "stdout",
     "output_type": "stream",
     "text": [
      "Testing data accuracy:  0.9238578680203046\n",
      "[[98  1]\n",
      " [14 84]]\n",
      "\n",
      "\n",
      "              precision    recall  f1-score   support\n",
      "\n",
      "           0       0.88      0.99      0.93        99\n",
      "           1       0.99      0.86      0.92        98\n",
      "\n",
      "    accuracy                           0.92       197\n",
      "   macro avg       0.93      0.92      0.92       197\n",
      "weighted avg       0.93      0.92      0.92       197\n",
      "\n"
     ]
    }
   ],
   "source": [
    "# Prediction of Test data\n",
    "\n",
    "rfc_pred = rfc.predict(X_test)\n",
    "rfc_test_acc = rfc.score(X_test, Y_test)\n",
    "print(\"Testing data accuracy: \", rfc_test_acc )\n",
    "\n",
    "print(confusion_matrix(Y_test, rfc_pred))\n",
    "\n",
    "print('\\n')\n",
    "\n",
    "print(classification_report(Y_test, rfc_pred))"
   ]
  },
  {
   "cell_type": "markdown",
   "id": "2e37a0a2",
   "metadata": {},
   "source": [
    "### As accuracy and F1 score both coming better than Decision tree so we will use Random Forest"
   ]
  },
  {
   "cell_type": "markdown",
   "id": "4784cf2e",
   "metadata": {},
   "source": [
    "### Now we need to visualize random forest"
   ]
  },
  {
   "cell_type": "code",
   "execution_count": 84,
   "id": "435ff824",
   "metadata": {},
   "outputs": [
    {
     "data": {
      "text/plain": [
       "[Text(0.39473684210526316, 0.9166666666666666, 'X[14] <= -2.279\\nentropy = 1.0\\nsamples = 787\\nvalue = [393, 394]'),\n",
       " Text(0.10526315789473684, 0.75, 'X[12] <= -1.328\\nentropy = 0.092\\nsamples = 343\\nvalue = [4, 339]'),\n",
       " Text(0.05263157894736842, 0.5833333333333334, 'entropy = 0.0\\nsamples = 318\\nvalue = [0, 318]'),\n",
       " Text(0.15789473684210525, 0.5833333333333334, 'X[8] <= -0.289\\nentropy = 0.634\\nsamples = 25\\nvalue = [4, 21]'),\n",
       " Text(0.10526315789473684, 0.4166666666666667, 'X[0] <= 125337.0\\nentropy = 1.0\\nsamples = 8\\nvalue = [4, 4]'),\n",
       " Text(0.05263157894736842, 0.25, 'entropy = 0.0\\nsamples = 3\\nvalue = [3, 0]'),\n",
       " Text(0.15789473684210525, 0.25, 'X[20] <= -0.32\\nentropy = 0.722\\nsamples = 5\\nvalue = [1, 4]'),\n",
       " Text(0.10526315789473684, 0.08333333333333333, 'entropy = 0.0\\nsamples = 1\\nvalue = [1, 0]'),\n",
       " Text(0.21052631578947367, 0.08333333333333333, 'entropy = 0.0\\nsamples = 4\\nvalue = [0, 4]'),\n",
       " Text(0.21052631578947367, 0.4166666666666667, 'entropy = 0.0\\nsamples = 17\\nvalue = [0, 17]'),\n",
       " Text(0.6842105263157895, 0.75, 'X[4] <= 1.655\\nentropy = 0.54\\nsamples = 444\\nvalue = [389, 55]'),\n",
       " Text(0.47368421052631576, 0.5833333333333334, 'X[10] <= -1.423\\nentropy = 0.376\\nsamples = 385\\nvalue = [357, 28]'),\n",
       " Text(0.3157894736842105, 0.4166666666666667, 'X[3] <= 0.422\\nentropy = 0.946\\nsamples = 11\\nvalue = [4, 7]'),\n",
       " Text(0.2631578947368421, 0.25, 'entropy = 0.0\\nsamples = 6\\nvalue = [0, 6]'),\n",
       " Text(0.3684210526315789, 0.25, 'X[14] <= -0.417\\nentropy = 0.722\\nsamples = 5\\nvalue = [4, 1]'),\n",
       " Text(0.3157894736842105, 0.08333333333333333, 'entropy = 0.0\\nsamples = 1\\nvalue = [0, 1]'),\n",
       " Text(0.42105263157894735, 0.08333333333333333, 'entropy = 0.0\\nsamples = 4\\nvalue = [4, 0]'),\n",
       " Text(0.631578947368421, 0.4166666666666667, 'X[8] <= 0.198\\nentropy = 0.312\\nsamples = 374\\nvalue = [353, 21]'),\n",
       " Text(0.5789473684210527, 0.25, 'X[20] <= -0.736\\nentropy = 0.401\\nsamples = 264\\nvalue = [243, 21]'),\n",
       " Text(0.5263157894736842, 0.08333333333333333, 'entropy = 1.0\\nsamples = 10\\nvalue = [5, 5]'),\n",
       " Text(0.631578947368421, 0.08333333333333333, 'entropy = 0.339\\nsamples = 254\\nvalue = [238, 16]'),\n",
       " Text(0.6842105263157895, 0.25, 'entropy = 0.0\\nsamples = 110\\nvalue = [110, 0]'),\n",
       " Text(0.8947368421052632, 0.5833333333333334, 'X[3] <= 1.253\\nentropy = 0.995\\nsamples = 59\\nvalue = [32, 27]'),\n",
       " Text(0.8421052631578947, 0.4166666666666667, 'X[11] <= 0.974\\nentropy = 0.978\\nsamples = 46\\nvalue = [19, 27]'),\n",
       " Text(0.7894736842105263, 0.25, 'X[8] <= 0.008\\nentropy = 0.99\\nsamples = 34\\nvalue = [19, 15]'),\n",
       " Text(0.7368421052631579, 0.08333333333333333, 'entropy = 0.946\\nsamples = 22\\nvalue = [8, 14]'),\n",
       " Text(0.8421052631578947, 0.08333333333333333, 'entropy = 0.414\\nsamples = 12\\nvalue = [11, 1]'),\n",
       " Text(0.8947368421052632, 0.25, 'entropy = 0.0\\nsamples = 12\\nvalue = [0, 12]'),\n",
       " Text(0.9473684210526315, 0.4166666666666667, 'entropy = 0.0\\nsamples = 13\\nvalue = [13, 0]')]"
      ]
     },
     "execution_count": 84,
     "metadata": {},
     "output_type": "execute_result"
    },
    {
     "data": {
      "image/png": "[encoded data removed]",
      "text/plain": [
       "<Figure size 432x288 with 1 Axes>"
      ]
     },
     "metadata": {
      "needs_background": "light"
     },
     "output_type": "display_data"
    }
   ],
   "source": [
    "tree.plot_tree(dtree.fit(X_train, Y_train), filled = True)"
   ]
  },
  {
   "cell_type": "code",
   "execution_count": 85,
   "id": "c6a28652",
   "metadata": {},
   "outputs": [
    {
     "data": {
      "text/plain": [
       "[Text(0.36363636363636365, 0.9166666666666666, 'X[14] <= -1.547\\nentropy = 1.0\\nsamples = 197\\nvalue = [99, 98]'),\n",
       " Text(0.2727272727272727, 0.75, 'entropy = 0.0\\nsamples = 85\\nvalue = [0, 85]'),\n",
       " Text(0.45454545454545453, 0.75, 'X[4] <= 1.127\\nentropy = 0.518\\nsamples = 112\\nvalue = [99, 13]'),\n",
       " Text(0.2727272727272727, 0.5833333333333334, 'X[19] <= 1.05\\nentropy = 0.26\\nsamples = 91\\nvalue = [87, 4]'),\n",
       " Text(0.18181818181818182, 0.4166666666666667, 'X[17] <= 0.8\\nentropy = 0.155\\nsamples = 89\\nvalue = [87, 2]'),\n",
       " Text(0.09090909090909091, 0.25, 'entropy = 0.0\\nsamples = 81\\nvalue = [81, 0]'),\n",
       " Text(0.2727272727272727, 0.25, 'X[25] <= 0.179\\nentropy = 0.811\\nsamples = 8\\nvalue = [6, 2]'),\n",
       " Text(0.18181818181818182, 0.08333333333333333, 'entropy = 0.0\\nsamples = 5\\nvalue = [5, 0]'),\n",
       " Text(0.36363636363636365, 0.08333333333333333, 'entropy = 0.918\\nsamples = 3\\nvalue = [1, 2]'),\n",
       " Text(0.36363636363636365, 0.4166666666666667, 'entropy = 0.0\\nsamples = 2\\nvalue = [0, 2]'),\n",
       " Text(0.6363636363636364, 0.5833333333333334, 'X[12] <= -0.786\\nentropy = 0.985\\nsamples = 21\\nvalue = [12, 9]'),\n",
       " Text(0.5454545454545454, 0.4166666666666667, 'entropy = 0.0\\nsamples = 6\\nvalue = [0, 6]'),\n",
       " Text(0.7272727272727273, 0.4166666666666667, 'X[8] <= -0.363\\nentropy = 0.722\\nsamples = 15\\nvalue = [12, 3]'),\n",
       " Text(0.6363636363636364, 0.25, 'entropy = 0.0\\nsamples = 2\\nvalue = [0, 2]'),\n",
       " Text(0.8181818181818182, 0.25, 'X[21] <= -0.228\\nentropy = 0.391\\nsamples = 13\\nvalue = [12, 1]'),\n",
       " Text(0.7272727272727273, 0.08333333333333333, 'entropy = 0.0\\nsamples = 1\\nvalue = [0, 1]'),\n",
       " Text(0.9090909090909091, 0.08333333333333333, 'entropy = 0.0\\nsamples = 12\\nvalue = [12, 0]')]"
      ]
     },
     "execution_count": 85,
     "metadata": {},
     "output_type": "execute_result"
    },
    {
     "data": {
      "image/png": "[encoded data removed]",
      "text/plain": [
       "<Figure size 432x288 with 1 Axes>"
      ]
     },
     "metadata": {
      "needs_background": "light"
     },
     "output_type": "display_data"
    }
   ],
   "source": [
    "tree.plot_tree(dtree.fit(X_test,Y_test), filled = True)"
   ]
  },
  {
   "cell_type": "markdown",
   "id": "c2781a5e",
   "metadata": {},
   "source": [
    "# Using Support Vector Machine"
   ]
  },
  {
   "cell_type": "code",
   "execution_count": 86,
   "id": "671d4f4c",
   "metadata": {},
   "outputs": [],
   "source": [
    "scaler = StandardScaler()"
   ]
  },
  {
   "cell_type": "code",
   "execution_count": 87,
   "id": "dc159b54",
   "metadata": {},
   "outputs": [
    {
     "data": {
      "text/plain": [
       "StandardScaler()"
      ]
     },
     "execution_count": 87,
     "metadata": {},
     "output_type": "execute_result"
    }
   ],
   "source": [
    "scaler.fit(X_train)"
   ]
  },
  {
   "cell_type": "code",
   "execution_count": 88,
   "id": "502e6a60",
   "metadata": {},
   "outputs": [],
   "source": [
    "X_train = scaler.transform(X_train)\n",
    "X_test  = scaler.transform(X_test)"
   ]
  },
  {
   "cell_type": "code",
   "execution_count": 89,
   "id": "40ed383f",
   "metadata": {},
   "outputs": [],
   "source": [
    "classifier = svm.SVC(kernel = 'linear')"
   ]
  },
  {
   "cell_type": "code",
   "execution_count": 90,
   "id": "0d334673",
   "metadata": {},
   "outputs": [
    {
     "data": {
      "text/plain": [
       "SVC(kernel='linear')"
      ]
     },
     "execution_count": 90,
     "metadata": {},
     "output_type": "execute_result"
    }
   ],
   "source": [
    "classifier.fit(X_train, Y_train)"
   ]
  },
  {
   "cell_type": "code",
   "execution_count": 91,
   "id": "515e8a54",
   "metadata": {},
   "outputs": [
    {
     "name": "stdout",
     "output_type": "stream",
     "text": [
      "Training data accuracy:  0.9542566709021602\n"
     ]
    }
   ],
   "source": [
    "X_train_predict = classifier.predict(X_train)\n",
    "training_data_accuracy = accuracy_score(Y_train, X_train_predict)\n",
    "print(\"Training data accuracy: \", training_data_accuracy)"
   ]
  },
  {
   "cell_type": "code",
   "execution_count": 92,
   "id": "c207b58d",
   "metadata": {},
   "outputs": [
    {
     "name": "stdout",
     "output_type": "stream",
     "text": [
      "Accuracy of the test data:  0.9238578680203046\n"
     ]
    }
   ],
   "source": [
    "X_test_predict = classifier.predict(X_test)\n",
    "test_data_accuracy = accuracy_score(Y_test, X_test_predict)\n",
    "print(\"Accuracy of the test data: \", test_data_accuracy)"
   ]
  },
  {
   "cell_type": "markdown",
   "id": "3df8a5a0",
   "metadata": {},
   "source": [
    "# XGBoost Classifier"
   ]
  },
  {
   "cell_type": "code",
   "execution_count": 35,
   "id": "8c0c5527",
   "metadata": {},
   "outputs": [],
   "source": [
    "# model_xgboost = xgb.XGBClassifier()\n",
    "\n",
    "model_xgboost = xgb.XGBClassifier(n_estimators=100, max_depth=3, random_state=42)\n"
   ]
  },
  {
   "cell_type": "code",
   "execution_count": 36,
   "id": "8089029e",
   "metadata": {},
   "outputs": [
    {
     "data": {
      "text/plain": [
       "XGBClassifier(base_score=None, booster=None, callbacks=None,\n",
       "              colsample_bylevel=None, colsample_bynode=None,\n",
       "              colsample_bytree=None, early_stopping_rounds=None,\n",
       "              enable_categorical=False, eval_metric=None, feature_types=None,\n",
       "              gamma=None, gpu_id=None, grow_policy=None, importance_type=None,\n",
       "              interaction_constraints=None, learning_rate=None, max_bin=None,\n",
       "              max_cat_threshold=None, max_cat_to_onehot=None,\n",
       "              max_delta_step=None, max_depth=3, max_leaves=None,\n",
       "              min_child_weight=None, missing=nan, monotone_constraints=None,\n",
       "              n_estimators=100, n_jobs=None, num_parallel_tree=None,\n",
       "              predictor=None, random_state=42, ...)"
      ]
     },
     "execution_count": 36,
     "metadata": {},
     "output_type": "execute_result"
    }
   ],
   "source": [
    "model_xgboost.fit(X_train, Y_train)"
   ]
  },
  {
   "cell_type": "code",
   "execution_count": 37,
   "id": "877f2520",
   "metadata": {},
   "outputs": [
    {
     "name": "stdout",
     "output_type": "stream",
     "text": [
      "1.0\n"
     ]
    }
   ],
   "source": [
    "pred_xgboost = model_xgboost.predict(X_train)\n",
    "accuracy_xgboost_train = accuracy_score(pred_xgboost, Y_train)\n",
    "print(accuracy_xgboost_train)"
   ]
  },
  {
   "cell_type": "code",
   "execution_count": 38,
   "id": "012395a3",
   "metadata": {},
   "outputs": [
    {
     "name": "stdout",
     "output_type": "stream",
     "text": [
      "0.9137055837563451\n"
     ]
    }
   ],
   "source": [
    "pred_xgboost = model_xgboost.predict(X_test)\n",
    "accuracy_xgboost_test = accuracy_score(pred_xgboost, Y_test)\n",
    "print(accuracy_xgboost_test)"
   ]
  },
  {
   "cell_type": "markdown",
   "id": "0e74879b",
   "metadata": {},
   "source": [
    "# Visualization of Output of each trained model for particular diff ml models"
   ]
  },
  {
   "cell_type": "code",
   "execution_count": 39,
   "id": "f1bfd0fc",
   "metadata": {},
   "outputs": [
    {
     "data": {
      "image/png": "[encoded data removed]",
      "text/plain": [
       "<Figure size 720x360 with 1 Axes>"
      ]
     },
     "metadata": {},
     "output_type": "display_data"
    }
   ],
   "source": [
    "# Bar Plots\n",
    "import seaborn as sns\n",
    "import matplotlib.pyplot as plt\n",
    "\n",
    "# Create a list of models and their accuracy scores\n",
    "models = ['Logistic Regression', 'Decision Tree', 'Random Forest', 'SVM', 'XGBoost']\n",
    "train_acc = [0.9415, 0.9618, 0.9987, 0.9542, 1.0000]\n",
    "test_acc = [0.9187, 0.9086, 0.9239, 0.9238, 0.9137]\n",
    "\n",
    "# Create a DataFrame from the lists\n",
    "data = {'Model': models, 'Train Accuracy': train_acc, 'Test Accuracy': test_acc}\n",
    "df = pd.DataFrame(data)\n",
    "\n",
    "# Set the figure size and style\n",
    "sns.set(rc={'figure.figsize':(10,5)})\n",
    "sns.set_style(\"whitegrid\")\n",
    "\n",
    "# Plot the grouped bar chart\n",
    "sns.barplot(x=\"Model\", y=\"Train Accuracy\", data=df, color=\"red\", alpha=.5)\n",
    "sns.barplot(x=\"Model\", y=\"Test Accuracy\", data=df, color=\"blue\", alpha=.5)\n",
    "\n",
    "# Add labels and legend\n",
    "plt.xlabel(\"Model\")\n",
    "plt.ylabel(\"Accuracy Score\")\n",
    "plt.title(\"Comparison of Classification Models\")\n",
    "plt.legend(labels=[\"Train Accuracy\", \"Test Accuracy\"])\n",
    "\n",
    "# Show the plot\n",
    "plt.show()\n"
   ]
  },
  {
   "cell_type": "code",
   "execution_count": null,
   "id": "3d5cf74c",
   "metadata": {},
   "outputs": [],
   "source": []
  }
 ],
 "metadata": {
  "kernelspec": {
   "display_name": "Python 3 (ipykernel)",
   "language": "python",
   "name": "python3"
  },
  "language_info": {
   "codemirror_mode": {
    "name": "ipython",
    "version": 3
   },
   "file_extension": ".py",
   "mimetype": "text/x-python",
   "name": "python",
   "nbconvert_exporter": "python",
   "pygments_lexer": "ipython3",
   "version": "3.9.6"
  }
 },
 "nbformat": 4,
 "nbformat_minor": 5
}
